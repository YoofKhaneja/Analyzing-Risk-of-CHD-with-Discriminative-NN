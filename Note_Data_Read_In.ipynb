{
  "nbformat": 4,
  "nbformat_minor": 0,
  "metadata": {
    "colab": {
      "provenance": [],
      "include_colab_link": true
    },
    "kernelspec": {
      "name": "python3",
      "display_name": "Python 3"
    },
    "language_info": {
      "name": "python"
    }
  },
  "cells": [
    {
      "cell_type": "markdown",
      "metadata": {
        "id": "view-in-github",
        "colab_type": "text"
      },
      "source": [
        "<a href=\"https://colab.research.google.com/github/YoofKhaneja/Analyzing-Risk-of-CHD-with-Discriminative-NN/blob/master/Note_Data_Read_In.ipynb\" target=\"_parent\"><img src=\"https://colab.research.google.com/assets/colab-badge.svg\" alt=\"Open In Colab\"/></a>"
      ]
    },
    {
      "cell_type": "code",
      "source": [
        "import pandas as pd\n",
        "import numpy as np\n",
        "import pickle\n",
        "from pathlib import Path\n",
        "raw_data_path = '/content/drive/MyDrive/Hosp/Raw'\n",
        "output_path = '/content/drive/MyDrive/output/'\n",
        "Path(output_path).mkdir(parents=True, exist_ok=True)"
      ],
      "metadata": {
        "id": "8VEIKEsr5M-u"
      },
      "execution_count": null,
      "outputs": []
    },
    {
      "cell_type": "code",
      "source": [
        "adm = pd.read_csv(raw_data_path+'/admissions.csv.gz')\n",
        "diag = pd.read_csv(raw_data_path+'/diagnoses_icd.csv.gz')\n",
        "diag_dict = pd.read_csv(raw_data_path+'/d_icd_diagnoses.csv.gz')"
      ],
      "metadata": {
        "id": "GeWPU4NyEAAY"
      },
      "execution_count": null,
      "outputs": []
    },
    {
      "cell_type": "code",
      "source": [
        "#generating fact table by joining admissions to diagnosis tuples of (ptnum, start_date, code)\n",
        "ft = diag.merge(adm[['hadm_id', 'admittime', 'dischtime']], on='hadm_id')\n",
        "ft['admittime'] = pd.to_datetime(ft['admittime'])\n",
        "ft['dischtime'] = pd.to_datetime(ft['dischtime'])\n"
      ],
      "metadata": {
        "id": "JnR4nA14D6BR"
      },
      "execution_count": null,
      "outputs": []
    },
    {
      "cell_type": "code",
      "source": [
        "interestedDisease=diag_dict[(diag_dict.long_title.str.contains('heart',case=False))& (diag_dict.long_title.str.contains('Failure',case=False))]"
      ],
      "metadata": {
        "id": "1Wkn0wXwZsfL"
      },
      "execution_count": null,
      "outputs": []
    },
    {
      "cell_type": "code",
      "source": [
        "hfcodecounts=ft[ft.icd_code.isin(interestedDisease.icd_code)][['subject_id','icd_code']].groupby(by='subject_id').count()\n",
        "allCase=set(ft.subject_id)\n",
        "posCase=set(hfcodecounts[hfcodecounts.icd_code>=3].index)\n",
        "borderLineCase=set(hfcodecounts[hfcodecounts.icd_code<3].index)\n",
        "negCase=allCase.difference(posCase).difference(borderLineCase)\n",
        "print('number of positive cases:{}'.format(len(posCase)))\n",
        "print('number of negative cases:{}'.format(len(negCase)))"
      ],
      "metadata": {
        "id": "NDBpHMzuaZYq",
        "outputId": "9f019ecc-eb74-4417-8c71-fced7f08b70f",
        "colab": {
          "base_uri": "https://localhost:8080/"
        }
      },
      "execution_count": null,
      "outputs": [
        {
          "output_type": "stream",
          "name": "stdout",
          "text": [
            "number of positive cases:10467\n",
            "number of negative cases:156319\n"
          ]
        }
      ]
    },
    {
      "cell_type": "code",
      "source": [
        "# prompt: positive_cohort=random\n",
        "\n",
        "import pandas as pd\n",
        "positive_cohort = pd.DataFrame(list(posCase), columns = ['subject_id']).sample(n=500,random_state=None)\n",
        "negative_cohort = pd.DataFrame(list(negCase), columns = ['subject_id']).sample(n=(500*(len(negCase)//len(posCase))),random_state=None)\n"
      ],
      "metadata": {
        "id": "HVgV_nhm8QR4"
      },
      "execution_count": null,
      "outputs": []
    },
    {
      "cell_type": "code",
      "source": [
        "hfcodecounts.hist(bins=50)"
      ],
      "metadata": {
        "id": "TAH0U_sHbRoq",
        "outputId": "be28ba64-f2bf-4219-e76b-89c1f18dea93",
        "colab": {
          "base_uri": "https://localhost:8080/",
          "height": 469
        }
      },
      "execution_count": null,
      "outputs": [
        {
          "output_type": "execute_result",
          "data": {
            "text/plain": [
              "array([[<Axes: title={'center': 'icd_code'}>]], dtype=object)"
            ]
          },
          "metadata": {},
          "execution_count": 34
        },
        {
          "output_type": "display_data",
          "data": {
            "text/plain": [
              "<Figure size 640x480 with 1 Axes>"
            ],
            "image/png": "[encoded data removed]"
          },
          "metadata": {}
        }
      ]
    },
    {
      "cell_type": "code",
      "source": [
        "discharge = pd.read_csv(raw_data_path+'discharge.csv.gz')"
      ],
      "metadata": {
        "id": "mmPEImVE8IdJ"
      },
      "execution_count": null,
      "outputs": []
    },
    {
      "cell_type": "code",
      "source": [
        "posNotes = positive_cohort.merge(discharge, on='subject_id', how='inner').sort_values(by=['subject_id', 'charttime'],ascending=True).groupby('subject_id').last().reset_index()[['subject_id','text']]\n",
        "\n",
        "negNotes = negative_cohort.merge(discharge, on='subject_id', how='inner').sort_values(by=['subject_id', 'charttime'],ascending=True).groupby('subject_id').last().reset_index()[['subject_id','text']]\n",
        "\n",
        "posNotes['label'] = 1\n",
        "negNotes['label'] = 0\n",
        "labelled_notes = pd.concat([posNotes, negNotes])\n",
        "labelled_notes.to_parquet(output_path+'/labelled_notes.parquet')\n"
      ],
      "metadata": {
        "id": "vrDnQTYFYsev"
      },
      "execution_count": null,
      "outputs": []
    }
  ]
}