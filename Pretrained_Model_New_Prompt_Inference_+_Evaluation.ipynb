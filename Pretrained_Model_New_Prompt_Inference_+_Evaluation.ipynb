{
  "cells": [
    {
      "cell_type": "markdown",
      "metadata": {
        "id": "view-in-github",
        "colab_type": "text"
      },
      "source": [
        "<a href=\"https://colab.research.google.com/github/YoofKhaneja/Analyzing-Risk-of-CHD-with-Discriminative-NN/blob/master/Pretrained_Model_New_Prompt_Inference_%2B_Evaluation.ipynb\" target=\"_parent\"><img src=\"https://colab.research.google.com/assets/colab-badge.svg\" alt=\"Open In Colab\"/></a>"
      ]
    },
    {
      "cell_type": "code",
      "execution_count": null,
      "metadata": {
        "id": "z_You23HJTXI"
      },
      "outputs": [],
      "source": [
        "# Installing requirements\n",
        "\n",
        "%%capture\n",
        "!pip install huggingface_hub\n",
        "!pip install transformers==4.31.0\n",
        "!pip install accelerate\n",
        "!pip install bitsandbytes\n",
        "!pip install ninja\n",
        "!pip install -U flash-attn --no-build-isolation\n",
        "!pip install sentencepiece\n",
        "!pip install flash-attn\n",
        "!pip install langchain langchain_community\n",
        "!pip install xformers"
      ]
    },
    {
      "cell_type": "code",
      "execution_count": null,
      "metadata": {
        "id": "ZEsJU-W9Om5T"
      },
      "outputs": [],
      "source": [
        "# Mounting the drive\n",
        "\n",
        "%%capture\n",
        "from google.colab import drive\n",
        "drive.mount('/content/drive')"
      ]
    },
    {
      "cell_type": "code",
      "source": [
        "# Check before each run\n",
        "# Set batch number (1-20) to test\n",
        "\n",
        "batch = 1"
      ],
      "metadata": {
        "id": "9yugKOumQ0md"
      },
      "execution_count": null,
      "outputs": []
    },
    {
      "cell_type": "code",
      "execution_count": null,
      "metadata": {
        "id": "LDrJlTpVJc51"
      },
      "outputs": [],
      "source": [
        "# Libraries and paths\n",
        "\n",
        "import numpy as np\n",
        "import pandas as pd\n",
        "import torch\n",
        "from transformers import AutoTokenizer, AutoModelForCausalLM, BitsAndBytesConfig, pipeline\n",
        "from transformers.pipelines.pt_utils import KeyDataset\n",
        "from langchain import HuggingFacePipeline, PromptTemplate, LLMChain\n",
        "\n",
        "import warnings\n",
        "warnings.filterwarnings('ignore')\n",
        "\n",
        "import tqdm\n",
        "\n",
        "from sklearn.metrics import confusion_matrix\n",
        "from sklearn.metrics import accuracy_score, f1_score, roc_auc_score\n",
        "from sklearn.metrics import classification_report\n",
        "from sklearn.metrics import roc_curve, auc\n",
        "import matplotlib.pyplot as plt\n",
        "\n",
        "model_path = '/content/drive/MyDrive/Models'\n",
        "input_path = '/content/drive/MyDrive/Output/Note Files'\n",
        "output_path = '/content/drive/MyDrive/Output'"
      ]
    },
    {
      "cell_type": "code",
      "source": [
        "# Data read-in\n",
        "\n",
        "labelled_notes = pd.read_parquet(input_path + f'/labelled_notes_{batch}.parquet')\n",
        "labelled_notes.sample(5)"
      ],
      "metadata": {
        "id": "x74sSmFPLzWH",
        "outputId": "54a2e943-0ec7-4596-f1a6-8f0f3cea3c7b",
        "colab": {
          "base_uri": "https://localhost:8080/",
          "height": 206
        }
      },
      "execution_count": null,
      "outputs": [
        {
          "output_type": "execute_result",
          "data": {
            "text/plain": [
              "                                                  summary  label\n",
              "115340  START\\n\\nhistory of present illness:\\nthis pat...      0\n",
              "73320   START\\n\\nhistory of present illness:\\nthe pt i...      0\n",
              "160     START\\n\\nhistory of present illness:\\npatient ...      1\n",
              "64520   START\\n\\nhistory of present illness:\\nmr. ___ ...      0\n",
              "94500   START\\n\\nhistory of present illness:\\npt is a ...      0"
            ],
            "text/html": [
              "\n",
              "  <div id=\"df-371df779-87d7-48dd-9a1d-eac842126463\" class=\"colab-df-container\">\n",
              "    <div>\n",
              "<style scoped>\n",
              "    .dataframe tbody tr th:only-of-type {\n",
              "        vertical-align: middle;\n",
              "    }\n",
              "\n",
              "    .dataframe tbody tr th {\n",
              "        vertical-align: top;\n",
              "    }\n",
              "\n",
              "    .dataframe thead th {\n",
              "        text-align: right;\n",
              "    }\n",
              "</style>\n",
              "<table border=\"1\" class=\"dataframe\">\n",
              "  <thead>\n",
              "    <tr style=\"text-align: right;\">\n",
              "      <th></th>\n",
              "      <th>summary</th>\n",
              "      <th>label</th>\n",
              "    </tr>\n",
              "  </thead>\n",
              "  <tbody>\n",
              "    <tr>\n",
              "      <th>115340</th>\n",
              "      <td>START\\n\\nhistory of present illness:\\nthis pat...</td>\n",
              "      <td>0</td>\n",
              "    </tr>\n",
              "    <tr>\n",
              "      <th>73320</th>\n",
              "      <td>START\\n\\nhistory of present illness:\\nthe pt i...</td>\n",
              "      <td>0</td>\n",
              "    </tr>\n",
              "    <tr>\n",
              "      <th>160</th>\n",
              "      <td>START\\n\\nhistory of present illness:\\npatient ...</td>\n",
              "      <td>1</td>\n",
              "    </tr>\n",
              "    <tr>\n",
              "      <th>64520</th>\n",
              "      <td>START\\n\\nhistory of present illness:\\nmr. ___ ...</td>\n",
              "      <td>0</td>\n",
              "    </tr>\n",
              "    <tr>\n",
              "      <th>94500</th>\n",
              "      <td>START\\n\\nhistory of present illness:\\npt is a ...</td>\n",
              "      <td>0</td>\n",
              "    </tr>\n",
              "  </tbody>\n",
              "</table>\n",
              "</div>\n",
              "    <div class=\"colab-df-buttons\">\n",
              "\n",
              "  <div class=\"colab-df-container\">\n",
              "    <button class=\"colab-df-convert\" onclick=\"convertToInteractive('df-371df779-87d7-48dd-9a1d-eac842126463')\"\n",
              "            title=\"Convert this dataframe to an interactive table.\"\n",
              "            style=\"display:none;\">\n",
              "\n",
              "  <svg xmlns=\"http://www.w3.org/2000/svg\" height=\"24px\" viewBox=\"0 -960 960 960\">\n",
              "    <path d=\"M120-120v-720h720v720H120Zm60-500h600v-160H180v160Zm220 220h160v-160H400v160Zm0 220h160v-160H400v160ZM180-400h160v-160H180v160Zm440 0h160v-160H620v160ZM180-180h160v-160H180v160Zm440 0h160v-160H620v160Z\"/>\n",
              "  </svg>\n",
              "    </button>\n",
              "\n",
              "  <style>\n",
              "    .colab-df-container {\n",
              "      display:flex;\n",
              "      gap: 12px;\n",
              "    }\n",
              "\n",
              "    .colab-df-convert {\n",
              "      background-color: #E8F0FE;\n",
              "      border: none;\n",
              "      border-radius: 50%;\n",
              "      cursor: pointer;\n",
              "      display: none;\n",
              "      fill: #1967D2;\n",
              "      height: 32px;\n",
              "      padding: 0 0 0 0;\n",
              "      width: 32px;\n",
              "    }\n",
              "\n",
              "    .colab-df-convert:hover {\n",
              "      background-color: #E2EBFA;\n",
              "      box-shadow: 0px 1px 2px rgba(60, 64, 67, 0.3), 0px 1px 3px 1px rgba(60, 64, 67, 0.15);\n",
              "      fill: #174EA6;\n",
              "    }\n",
              "\n",
              "    .colab-df-buttons div {\n",
              "      margin-bottom: 4px;\n",
              "    }\n",
              "\n",
              "    [theme=dark] .colab-df-convert {\n",
              "      background-color: #3B4455;\n",
              "      fill: #D2E3FC;\n",
              "    }\n",
              "\n",
              "    [theme=dark] .colab-df-convert:hover {\n",
              "      background-color: #434B5C;\n",
              "      box-shadow: 0px 1px 3px 1px rgba(0, 0, 0, 0.15);\n",
              "      filter: drop-shadow(0px 1px 2px rgba(0, 0, 0, 0.3));\n",
              "      fill: #FFFFFF;\n",
              "    }\n",
              "  </style>\n",
              "\n",
              "    <script>\n",
              "      const buttonEl =\n",
              "        document.querySelector('#df-371df779-87d7-48dd-9a1d-eac842126463 button.colab-df-convert');\n",
              "      buttonEl.style.display =\n",
              "        google.colab.kernel.accessAllowed ? 'block' : 'none';\n",
              "\n",
              "      async function convertToInteractive(key) {\n",
              "        const element = document.querySelector('#df-371df779-87d7-48dd-9a1d-eac842126463');\n",
              "        const dataTable =\n",
              "          await google.colab.kernel.invokeFunction('convertToInteractive',\n",
              "                                                    [key], {});\n",
              "        if (!dataTable) return;\n",
              "\n",
              "        const docLinkHtml = 'Like what you see? Visit the ' +\n",
              "          '<a target=\"_blank\" href=https://colab.research.google.com/notebooks/data_table.ipynb>data table notebook</a>'\n",
              "          + ' to learn more about interactive tables.';\n",
              "        element.innerHTML = '';\n",
              "        dataTable['output_type'] = 'display_data';\n",
              "        await google.colab.output.renderOutput(dataTable, element);\n",
              "        const docLink = document.createElement('div');\n",
              "        docLink.innerHTML = docLinkHtml;\n",
              "        element.appendChild(docLink);\n",
              "      }\n",
              "    </script>\n",
              "  </div>\n",
              "\n",
              "\n",
              "<div id=\"df-10cc587b-362a-4ad2-afd7-81e1d2d91ae5\">\n",
              "  <button class=\"colab-df-quickchart\" onclick=\"quickchart('df-10cc587b-362a-4ad2-afd7-81e1d2d91ae5')\"\n",
              "            title=\"Suggest charts\"\n",
              "            style=\"display:none;\">\n",
              "\n",
              "<svg xmlns=\"http://www.w3.org/2000/svg\" height=\"24px\"viewBox=\"0 0 24 24\"\n",
              "     width=\"24px\">\n",
              "    <g>\n",
              "        <path d=\"M19 3H5c-1.1 0-2 .9-2 2v14c0 1.1.9 2 2 2h14c1.1 0 2-.9 2-2V5c0-1.1-.9-2-2-2zM9 17H7v-7h2v7zm4 0h-2V7h2v10zm4 0h-2v-4h2v4z\"/>\n",
              "    </g>\n",
              "</svg>\n",
              "  </button>\n",
              "\n",
              "<style>\n",
              "  .colab-df-quickchart {\n",
              "      --bg-color: #E8F0FE;\n",
              "      --fill-color: #1967D2;\n",
              "      --hover-bg-color: #E2EBFA;\n",
              "      --hover-fill-color: #174EA6;\n",
              "      --disabled-fill-color: #AAA;\n",
              "      --disabled-bg-color: #DDD;\n",
              "  }\n",
              "\n",
              "  [theme=dark] .colab-df-quickchart {\n",
              "      --bg-color: #3B4455;\n",
              "      --fill-color: #D2E3FC;\n",
              "      --hover-bg-color: #434B5C;\n",
              "      --hover-fill-color: #FFFFFF;\n",
              "      --disabled-bg-color: #3B4455;\n",
              "      --disabled-fill-color: #666;\n",
              "  }\n",
              "\n",
              "  .colab-df-quickchart {\n",
              "    background-color: var(--bg-color);\n",
              "    border: none;\n",
              "    border-radius: 50%;\n",
              "    cursor: pointer;\n",
              "    display: none;\n",
              "    fill: var(--fill-color);\n",
              "    height: 32px;\n",
              "    padding: 0;\n",
              "    width: 32px;\n",
              "  }\n",
              "\n",
              "  .colab-df-quickchart:hover {\n",
              "    background-color: var(--hover-bg-color);\n",
              "    box-shadow: 0 1px 2px rgba(60, 64, 67, 0.3), 0 1px 3px 1px rgba(60, 64, 67, 0.15);\n",
              "    fill: var(--button-hover-fill-color);\n",
              "  }\n",
              "\n",
              "  .colab-df-quickchart-complete:disabled,\n",
              "  .colab-df-quickchart-complete:disabled:hover {\n",
              "    background-color: var(--disabled-bg-color);\n",
              "    fill: var(--disabled-fill-color);\n",
              "    box-shadow: none;\n",
              "  }\n",
              "\n",
              "  .colab-df-spinner {\n",
              "    border: 2px solid var(--fill-color);\n",
              "    border-color: transparent;\n",
              "    border-bottom-color: var(--fill-color);\n",
              "    animation:\n",
              "      spin 1s steps(1) infinite;\n",
              "  }\n",
              "\n",
              "  @keyframes spin {\n",
              "    0% {\n",
              "      border-color: transparent;\n",
              "      border-bottom-color: var(--fill-color);\n",
              "      border-left-color: var(--fill-color);\n",
              "    }\n",
              "    20% {\n",
              "      border-color: transparent;\n",
              "      border-left-color: var(--fill-color);\n",
              "      border-top-color: var(--fill-color);\n",
              "    }\n",
              "    30% {\n",
              "      border-color: transparent;\n",
              "      border-left-color: var(--fill-color);\n",
              "      border-top-color: var(--fill-color);\n",
              "      border-right-color: var(--fill-color);\n",
              "    }\n",
              "    40% {\n",
              "      border-color: transparent;\n",
              "      border-right-color: var(--fill-color);\n",
              "      border-top-color: var(--fill-color);\n",
              "    }\n",
              "    60% {\n",
              "      border-color: transparent;\n",
              "      border-right-color: var(--fill-color);\n",
              "    }\n",
              "    80% {\n",
              "      border-color: transparent;\n",
              "      border-right-color: var(--fill-color);\n",
              "      border-bottom-color: var(--fill-color);\n",
              "    }\n",
              "    90% {\n",
              "      border-color: transparent;\n",
              "      border-bottom-color: var(--fill-color);\n",
              "    }\n",
              "  }\n",
              "</style>\n",
              "\n",
              "  <script>\n",
              "    async function quickchart(key) {\n",
              "      const quickchartButtonEl =\n",
              "        document.querySelector('#' + key + ' button');\n",
              "      quickchartButtonEl.disabled = true;  // To prevent multiple clicks.\n",
              "      quickchartButtonEl.classList.add('colab-df-spinner');\n",
              "      try {\n",
              "        const charts = await google.colab.kernel.invokeFunction(\n",
              "            'suggestCharts', [key], {});\n",
              "      } catch (error) {\n",
              "        console.error('Error during call to suggestCharts:', error);\n",
              "      }\n",
              "      quickchartButtonEl.classList.remove('colab-df-spinner');\n",
              "      quickchartButtonEl.classList.add('colab-df-quickchart-complete');\n",
              "    }\n",
              "    (() => {\n",
              "      let quickchartButtonEl =\n",
              "        document.querySelector('#df-10cc587b-362a-4ad2-afd7-81e1d2d91ae5 button');\n",
              "      quickchartButtonEl.style.display =\n",
              "        google.colab.kernel.accessAllowed ? 'block' : 'none';\n",
              "    })();\n",
              "  </script>\n",
              "</div>\n",
              "\n",
              "    </div>\n",
              "  </div>\n"
            ],
            "application/vnd.google.colaboratory.intrinsic+json": {
              "type": "dataframe",
              "summary": "{\n  \"name\": \"labelled_notes\",\n  \"rows\": 5,\n  \"fields\": [\n    {\n      \"column\": \"summary\",\n      \"properties\": {\n        \"dtype\": \"string\",\n        \"num_unique_values\": 5,\n        \"samples\": [\n          \"START\\n\\nhistory of present illness:\\nthe pt is a ___ year-old m w/ hx of htn who presents with ___ \\n___ and gait instability. hx obtained from pt at \\nbedside w/ assistance of ___ interpreter.\\npast medical history:\\nhypertension\\npre-diabetes (a1c 6.0%)\\n \\ndischarge diagnosis:\\nneurosyphilis\\n\\nEND\",\n          \"START\\n\\nhistory of present illness:\\npt is a ___ y/o man with unknown past medical and psychiatric\\nhistory who is biba after being found wandering in a building \\nand\\nendorsing that he was being chased by 17 foot tall nazi giants\\nwith lead pipes. on entering pt's room, he is sleeping and \\nawakes\\nwith a significant startle to voice. grossly disorganized on\\ninterview, cannot answer most questions in any sort of coherent\\nmanner and is difficult to understand ___ to speech\\nimpediment/slurred words. on initiation of interview, pt states\\n\\\"some of them just sit there and they got called for different\\njobs.\\\" when asked who \\\"they\\\" were, he replied 'the workers\\\" and\\nthen mumbled to himself regarding these workers (\\\"they got here\\ntoday, the workers, trying to take out some of them but they\\nforget about the...\\\") could not explain who these workers were \\nor\\nhow they were related to pt's current state in the er. pt able \\nto\\ndeny drug use (\\\"not today\\\") but quickly becomes tangential in \\nhis\\nanswers. when redirected and prompted, denied cocaine and heroin\\nuse. unable to give straight answer about alcohol use, again\\nbecoming tangential and not answering the question, even after\\nmultiple prompts. \\npast medical history:\\nmultiple past hospitalizations, most recently at ___ in\\n___. is followed by outpatient psychiatry at ___ ___. has been receiving \\nhaldol\\ndec shots at that clinic. no known history of violence or\\nsuicidality. has history of wandering from home when not taking\\nhis medications \\ndischarge diagnosis:\\nchronic psychotic disorder\\n \\n\\nEND\",\n          \"START\\n\\nhistory of present illness:\\npatient is a ___ male who is status post turp by dr. ___ on \\n___. he was discharged on ___ with his catheter. of \\nnote, history obtained from er record as patient is confused. \\npatient presented to ___ on ___ for poorly draining \\nfoley, was hand irrigated for clots and sent home. he\\npresented to ___ again yesterday for poor foley drainage. \\nthey were unable to irrigate his catheter and was transferred to \\n___. patient's foley was replaced and started on cbi by ed. \\npatient is confused and does not remember going to the er. no \\ncomplaints. patient's or ucx grew diptheroids and enterococcus \\nfor which he was started on amoxicillin ___. \\n \\npast medical history:\\npmhx:\\nchf (ef 58%)\\nhld\\n2nd degree avb s/p pacer placed ___\\nhx/o a fib\\nhx/o sdh\\ngastritis\\nhearing loss\\ndischarge diagnosis:\\nhematuria, urinary clot retention, benign prostatic hypertrophy, \\nurinary tract infection\\n\\nEND\"\n        ],\n        \"semantic_type\": \"\",\n        \"description\": \"\"\n      }\n    },\n    {\n      \"column\": \"label\",\n      \"properties\": {\n        \"dtype\": \"number\",\n        \"std\": 0,\n        \"min\": 0,\n        \"max\": 1,\n        \"num_unique_values\": 2,\n        \"samples\": [\n          1,\n          0\n        ],\n        \"semantic_type\": \"\",\n        \"description\": \"\"\n      }\n    }\n  ]\n}"
            }
          },
          "metadata": {},
          "execution_count": 16
        }
      ]
    },
    {
      "cell_type": "code",
      "execution_count": null,
      "metadata": {
        "colab": {
          "base_uri": "https://localhost:8080/",
          "height": 104,
          "referenced_widgets": [
            "93aa8a1837854ceda477e901c8218643",
            "4c91d8792ac140a59ade8566a8fbe393",
            "4ca9f3d17e2b45e1bc28d9770e050f11",
            "6b5c4f57c6a24bbf88b278bf03e66141",
            "4ad8d2d20ae8486b99a564cf2c3275ab",
            "3853a637d92941bbb7ca1459e821f1c3",
            "a1769f3b319a4df492a24c2083c2d9d0",
            "69ec9c045bf64a9ea063805702b04576",
            "ed6e89cb92584690ab24189f9690da3b",
            "f7835cc0fbbe44a38a838f9a5bdf0582",
            "02188764d30f4366a2415ad94fced897"
          ]
        },
        "id": "7NbN_G-TJf3I",
        "outputId": "040cb10c-53f9-410d-8eee-b29815f13c30"
      },
      "outputs": [
        {
          "output_type": "stream",
          "name": "stderr",
          "text": [
            "You are using the legacy behaviour of the <class 'transformers.models.llama.tokenization_llama.LlamaTokenizer'>. This means that tokens that come after special tokens will not be properly handled. We recommend you to read the related pull request available at https://github.com/huggingface/transformers/pull/24565\n"
          ]
        },
        {
          "output_type": "display_data",
          "data": {
            "text/plain": [
              "Loading checkpoint shards:   0%|          | 0/3 [00:00<?, ?it/s]"
            ],
            "application/vnd.jupyter.widget-view+json": {
              "version_major": 2,
              "version_minor": 0,
              "model_id": "93aa8a1837854ceda477e901c8218643"
            }
          },
          "metadata": {}
        },
        {
          "output_type": "stream",
          "name": "stderr",
          "text": [
            "WARNING:accelerate.big_modeling:You shouldn't move a model that is dispatched using accelerate hooks.\n"
          ]
        }
      ],
      "source": [
        "# Loading the model\n",
        "\n",
        "bnb_config = BitsAndBytesConfig(load_in_4bit = True, bnb_4bit_use_double_quant=True, bnb_4bit_quant_type=\"nf4\", bnb_4bit_compute_dtype=torch.bfloat16,)\n",
        "\n",
        "tokenizer = AutoTokenizer.from_pretrained(model_path + '/Ascleipus-7B')\n",
        "model = AutoModelForCausalLM.from_pretrained(model_path + '/Ascleipus-7B', quantization_config=bnb_config).bfloat16().cuda()"
      ]
    },
    {
      "cell_type": "code",
      "execution_count": null,
      "metadata": {
        "id": "CTJ2b5PzHZGI"
      },
      "outputs": [],
      "source": [
        "# Setting up the pipeline\n",
        "\n",
        "pipeline = pipeline(\n",
        "    \"text-generation\",\n",
        "    model=model,\n",
        "    tokenizer=tokenizer,\n",
        "    torch_dtype=torch.bfloat16,\n",
        "    trust_remote_code=True,\n",
        "    device_map=\"auto\",\n",
        "    max_length=4096,\n",
        "    do_sample=True,\n",
        "    temperature=0.001,\n",
        "    top_p=0.5,\n",
        "    top_k=5\n",
        ")\n",
        "\n",
        "llm = HuggingFacePipeline(pipeline = pipeline)"
      ]
    },
    {
      "cell_type": "code",
      "execution_count": null,
      "metadata": {
        "id": "-GXMevgUyDne"
      },
      "outputs": [],
      "source": [
        "# Defining the template\n",
        "\n",
        "template = \"\"\"\n",
        "              ```{text}```\n",
        "              You are a smart medical professional. Break down the discharge note delimited by triple backquotes and answer the following question:\n",
        "              Question 1: is there a mention of heart failure in the discharge note? Return \"Yes\" or \"No\".\n",
        "              Answer 1:\n",
        "              Use only the input text to answer the question, and keep your response as short as possible/\n",
        "              ***\n",
        "           \"\"\"\n",
        "\n",
        "prompt = PromptTemplate(template=template, input_variables=[\"text\"])\n",
        "\n",
        "llm_chain = LLMChain(prompt=prompt, llm=llm)"
      ]
    },
    {
      "cell_type": "code",
      "source": [
        "# Generating outputs\n",
        "\n",
        "final_output = []\n",
        "\n",
        "for n in tqdm.tqdm(labelled_notes['summary']):\n",
        "    o = llm_chain.invoke(n)['text']\n",
        "    o = o[o.find('***')+3:]\n",
        "    o = str.strip(o)\n",
        "    final_output.append(o)"
      ],
      "metadata": {
        "colab": {
          "base_uri": "https://localhost:8080/"
        },
        "id": "N48C7CtMXwdg",
        "outputId": "d02e4c2c-57e3-413f-b830-afa67fce985f"
      },
      "execution_count": null,
      "outputs": [
        {
          "output_type": "stream",
          "name": "stderr",
          "text": [
            "100%|██████████| 6629/6629 [3:01:06<00:00,  1.64s/it]\n"
          ]
        }
      ]
    },
    {
      "cell_type": "code",
      "source": [
        "# Formatting outputs\n",
        "\n",
        "labelled_notes['llm_out'] = final_output\n",
        "\n",
        "split_output = [i.split(' ') for i in final_output]\n",
        "first_words = [i[0].split(',')[0].strip().lower() for i in split_output]\n",
        "pred_labels = [1 if i == 'yes' else 0 for i in first_words]\n",
        "\n",
        "labelled_notes['pred_label'] = pred_labels"
      ],
      "metadata": {
        "id": "bwIJAUMPmDI4"
      },
      "execution_count": null,
      "outputs": []
    },
    {
      "cell_type": "code",
      "source": [
        "# Confusion matrix\n",
        "\n",
        "cm = confusion_matrix(labelled_notes['label'], labelled_notes['pred_label'])\n",
        "cm_df = pd.DataFrame(cm, columns=['Predicted 0', 'Predicted 1'], index=['Actual 0', 'Actual 1'])\n",
        "print(cm_df)"
      ],
      "metadata": {
        "colab": {
          "base_uri": "https://localhost:8080/"
        },
        "id": "fQZViLvlfNJI",
        "outputId": "b290e254-b2e2-414f-9c05-8aa468fbbebe"
      },
      "execution_count": null,
      "outputs": [
        {
          "output_type": "stream",
          "name": "stdout",
          "text": [
            "          Predicted 0  Predicted 1\n",
            "Actual 0         6105            4\n",
            "Actual 1          308          212\n"
          ]
        }
      ]
    },
    {
      "cell_type": "code",
      "source": [
        "# Accuracy, F1, AUROC\n",
        "\n",
        "accuracy = accuracy_score(labelled_notes['label'], labelled_notes['pred_label'])\n",
        "f1 = f1_score(labelled_notes['label'], labelled_notes['pred_label'])\n",
        "auroc = roc_auc_score(labelled_notes['label'], labelled_notes['pred_label'])\n",
        "print(\"Accuracy:\", accuracy)\n",
        "print(\"F1-score:\", f1)\n",
        "print(\"AUROC:\", auroc)"
      ],
      "metadata": {
        "colab": {
          "base_uri": "https://localhost:8080/"
        },
        "id": "k3aXeXL1fnd1",
        "outputId": "e2dd9148-07b7-4c2c-a351-e6981524ebba"
      },
      "execution_count": null,
      "outputs": [
        {
          "output_type": "stream",
          "name": "stdout",
          "text": [
            "Accuracy: 0.9529340775380902\n",
            "F1-score: 0.5760869565217391\n",
            "AUROC: 0.70351876802196\n"
          ]
        }
      ]
    },
    {
      "cell_type": "code",
      "source": [
        "# Classification report\n",
        "\n",
        "report = classification_report(labelled_notes['label'], labelled_notes['pred_label'])\n",
        "print(report)"
      ],
      "metadata": {
        "colab": {
          "base_uri": "https://localhost:8080/"
        },
        "id": "ELLG4S7wf0qG",
        "outputId": "864f0548-3d30-48bf-a3b1-f7a30d0c0f07"
      },
      "execution_count": null,
      "outputs": [
        {
          "output_type": "stream",
          "name": "stdout",
          "text": [
            "              precision    recall  f1-score   support\n",
            "\n",
            "           0       0.95      1.00      0.98      6109\n",
            "           1       0.98      0.41      0.58       520\n",
            "\n",
            "    accuracy                           0.95      6629\n",
            "   macro avg       0.97      0.70      0.78      6629\n",
            "weighted avg       0.95      0.95      0.94      6629\n",
            "\n"
          ]
        }
      ]
    },
    {
      "cell_type": "code",
      "source": [
        "# ROC curve\n",
        "\n",
        "predictions_proba = [1 if x == 1 else 0 for x in labelled_notes['label']]\n",
        "fpr, tpr, thresholds = roc_curve(labelled_notes['label'], labelled_notes['pred_label'])\n",
        "roc_auc = auc(fpr, tpr)\n",
        "plt.figure()\n",
        "lw = 2\n",
        "plt.plot(fpr, tpr, color='darkorange', lw=lw, label='ROC curve (area = %0.2f)' % roc_auc)\n",
        "plt.plot([0, 1], [0, 1], color='navy', lw=lw, linestyle='--')\n",
        "plt.xlim([0.0, 1.0])\n",
        "plt.ylim([0.0, 1.05])\n",
        "plt.xlabel('False Positive Rate')\n",
        "plt.ylabel('True Positive Rate')\n",
        "plt.title('Receiver operating characteristic example')\n",
        "plt.legend(loc=\"lower right\")\n",
        "plt.show()"
      ],
      "metadata": {
        "colab": {
          "base_uri": "https://localhost:8080/",
          "height": 472
        },
        "id": "c7OGGmnQf68w",
        "outputId": "a074b4f9-a15a-47a3-fc20-f5c7719ac0fc"
      },
      "execution_count": null,
      "outputs": [
        {
          "output_type": "display_data",
          "data": {
            "text/plain": [
              "<Figure size 640x480 with 1 Axes>"
            ],
            "image/png": "[encoded data removed]"
          },
          "metadata": {}
        }
      ]
    },
    {
      "cell_type": "code",
      "source": [
        "# Exporting the results\n",
        "\n",
        "labelled_notes.to_parquet(output_path + f'/llm_output_{batch}.parquet')"
      ],
      "metadata": {
        "id": "VNL5AARcfDAl"
      },
      "execution_count": null,
      "outputs": []
    }
  ],
  "metadata": {
    "accelerator": "GPU",
    "colab": {
      "gpuType": "L4",
      "machine_shape": "hm",
      "provenance": [],
      "include_colab_link": true
    },
    "kernelspec": {
      "display_name": "Python 3",
      "name": "python3"
    },
    "language_info": {
      "name": "python"
    },
    "vp": {
      "vp_note_display": false,
      "vp_note_width": 0,
      "vp_section_display": false
    },
    "widgets": {
      "application/vnd.jupyter.widget-state+json": {
        "93aa8a1837854ceda477e901c8218643": {
          "model_module": "@jupyter-widgets/controls",
          "model_name": "HBoxModel",
          "model_module_version": "1.5.0",
          "state": {
            "_dom_classes": [],
            "_model_module": "@jupyter-widgets/controls",
            "_model_module_version": "1.5.0",
            "_model_name": "HBoxModel",
            "_view_count": null,
            "_view_module": "@jupyter-widgets/controls",
            "_view_module_version": "1.5.0",
            "_view_name": "HBoxView",
            "box_style": "",
            "children": [
              "IPY_MODEL_4c91d8792ac140a59ade8566a8fbe393",
              "IPY_MODEL_4ca9f3d17e2b45e1bc28d9770e050f11",
              "IPY_MODEL_6b5c4f57c6a24bbf88b278bf03e66141"
            ],
            "layout": "IPY_MODEL_4ad8d2d20ae8486b99a564cf2c3275ab"
          }
        },
        "4c91d8792ac140a59ade8566a8fbe393": {
          "model_module": "@jupyter-widgets/controls",
          "model_name": "HTMLModel",
          "model_module_version": "1.5.0",
          "state": {
            "_dom_classes": [],
            "_model_module": "@jupyter-widgets/controls",
            "_model_module_version": "1.5.0",
            "_model_name": "HTMLModel",
            "_view_count": null,
            "_view_module": "@jupyter-widgets/controls",
            "_view_module_version": "1.5.0",
            "_view_name": "HTMLView",
            "description": "",
            "description_tooltip": null,
            "layout": "IPY_MODEL_3853a637d92941bbb7ca1459e821f1c3",
            "placeholder": "​",
            "style": "IPY_MODEL_a1769f3b319a4df492a24c2083c2d9d0",
            "value": "Loading checkpoint shards: 100%"
          }
        },
        "4ca9f3d17e2b45e1bc28d9770e050f11": {
          "model_module": "@jupyter-widgets/controls",
          "model_name": "FloatProgressModel",
          "model_module_version": "1.5.0",
          "state": {
            "_dom_classes": [],
            "_model_module": "@jupyter-widgets/controls",
            "_model_module_version": "1.5.0",
            "_model_name": "FloatProgressModel",
            "_view_count": null,
            "_view_module": "@jupyter-widgets/controls",
            "_view_module_version": "1.5.0",
            "_view_name": "ProgressView",
            "bar_style": "success",
            "description": "",
            "description_tooltip": null,
            "layout": "IPY_MODEL_69ec9c045bf64a9ea063805702b04576",
            "max": 3,
            "min": 0,
            "orientation": "horizontal",
            "style": "IPY_MODEL_ed6e89cb92584690ab24189f9690da3b",
            "value": 3
          }
        },
        "6b5c4f57c6a24bbf88b278bf03e66141": {
          "model_module": "@jupyter-widgets/controls",
          "model_name": "HTMLModel",
          "model_module_version": "1.5.0",
          "state": {
            "_dom_classes": [],
            "_model_module": "@jupyter-widgets/controls",
            "_model_module_version": "1.5.0",
            "_model_name": "HTMLModel",
            "_view_count": null,
            "_view_module": "@jupyter-widgets/controls",
            "_view_module_version": "1.5.0",
            "_view_name": "HTMLView",
            "description": "",
            "description_tooltip": null,
            "layout": "IPY_MODEL_f7835cc0fbbe44a38a838f9a5bdf0582",
            "placeholder": "​",
            "style": "IPY_MODEL_02188764d30f4366a2415ad94fced897",
            "value": " 3/3 [15:00&lt;00:00, 292.33s/it]"
          }
        },
        "4ad8d2d20ae8486b99a564cf2c3275ab": {
          "model_module": "@jupyter-widgets/base",
          "model_name": "LayoutModel",
          "model_module_version": "1.2.0",
          "state": {
            "_model_module": "@jupyter-widgets/base",
            "_model_module_version": "1.2.0",
            "_model_name": "LayoutModel",
            "_view_count": null,
            "_view_module": "@jupyter-widgets/base",
            "_view_module_version": "1.2.0",
            "_view_name": "LayoutView",
            "align_content": null,
            "align_items": null,
            "align_self": null,
            "border": null,
            "bottom": null,
            "display": null,
            "flex": null,
            "flex_flow": null,
            "grid_area": null,
            "grid_auto_columns": null,
            "grid_auto_flow": null,
            "grid_auto_rows": null,
            "grid_column": null,
            "grid_gap": null,
            "grid_row": null,
            "grid_template_areas": null,
            "grid_template_columns": null,
            "grid_template_rows": null,
            "height": null,
            "justify_content": null,
            "justify_items": null,
            "left": null,
            "margin": null,
            "max_height": null,
            "max_width": null,
            "min_height": null,
            "min_width": null,
            "object_fit": null,
            "object_position": null,
            "order": null,
            "overflow": null,
            "overflow_x": null,
            "overflow_y": null,
            "padding": null,
            "right": null,
            "top": null,
            "visibility": null,
            "width": null
          }
        },
        "3853a637d92941bbb7ca1459e821f1c3": {
          "model_module": "@jupyter-widgets/base",
          "model_name": "LayoutModel",
          "model_module_version": "1.2.0",
          "state": {
            "_model_module": "@jupyter-widgets/base",
            "_model_module_version": "1.2.0",
            "_model_name": "LayoutModel",
            "_view_count": null,
            "_view_module": "@jupyter-widgets/base",
            "_view_module_version": "1.2.0",
            "_view_name": "LayoutView",
            "align_content": null,
            "align_items": null,
            "align_self": null,
            "border": null,
            "bottom": null,
            "display": null,
            "flex": null,
            "flex_flow": null,
            "grid_area": null,
            "grid_auto_columns": null,
            "grid_auto_flow": null,
            "grid_auto_rows": null,
            "grid_column": null,
            "grid_gap": null,
            "grid_row": null,
            "grid_template_areas": null,
            "grid_template_columns": null,
            "grid_template_rows": null,
            "height": null,
            "justify_content": null,
            "justify_items": null,
            "left": null,
            "margin": null,
            "max_height": null,
            "max_width": null,
            "min_height": null,
            "min_width": null,
            "object_fit": null,
            "object_position": null,
            "order": null,
            "overflow": null,
            "overflow_x": null,
            "overflow_y": null,
            "padding": null,
            "right": null,
            "top": null,
            "visibility": null,
            "width": null
          }
        },
        "a1769f3b319a4df492a24c2083c2d9d0": {
          "model_module": "@jupyter-widgets/controls",
          "model_name": "DescriptionStyleModel",
          "model_module_version": "1.5.0",
          "state": {
            "_model_module": "@jupyter-widgets/controls",
            "_model_module_version": "1.5.0",
            "_model_name": "DescriptionStyleModel",
            "_view_count": null,
            "_view_module": "@jupyter-widgets/base",
            "_view_module_version": "1.2.0",
            "_view_name": "StyleView",
            "description_width": ""
          }
        },
        "69ec9c045bf64a9ea063805702b04576": {
          "model_module": "@jupyter-widgets/base",
          "model_name": "LayoutModel",
          "model_module_version": "1.2.0",
          "state": {
            "_model_module": "@jupyter-widgets/base",
            "_model_module_version": "1.2.0",
            "_model_name": "LayoutModel",
            "_view_count": null,
            "_view_module": "@jupyter-widgets/base",
            "_view_module_version": "1.2.0",
            "_view_name": "LayoutView",
            "align_content": null,
            "align_items": null,
            "align_self": null,
            "border": null,
            "bottom": null,
            "display": null,
            "flex": null,
            "flex_flow": null,
            "grid_area": null,
            "grid_auto_columns": null,
            "grid_auto_flow": null,
            "grid_auto_rows": null,
            "grid_column": null,
            "grid_gap": null,
            "grid_row": null,
            "grid_template_areas": null,
            "grid_template_columns": null,
            "grid_template_rows": null,
            "height": null,
            "justify_content": null,
            "justify_items": null,
            "left": null,
            "margin": null,
            "max_height": null,
            "max_width": null,
            "min_height": null,
            "min_width": null,
            "object_fit": null,
            "object_position": null,
            "order": null,
            "overflow": null,
            "overflow_x": null,
            "overflow_y": null,
            "padding": null,
            "right": null,
            "top": null,
            "visibility": null,
            "width": null
          }
        },
        "ed6e89cb92584690ab24189f9690da3b": {
          "model_module": "@jupyter-widgets/controls",
          "model_name": "ProgressStyleModel",
          "model_module_version": "1.5.0",
          "state": {
            "_model_module": "@jupyter-widgets/controls",
            "_model_module_version": "1.5.0",
            "_model_name": "ProgressStyleModel",
            "_view_count": null,
            "_view_module": "@jupyter-widgets/base",
            "_view_module_version": "1.2.0",
            "_view_name": "StyleView",
            "bar_color": null,
            "description_width": ""
          }
        },
        "f7835cc0fbbe44a38a838f9a5bdf0582": {
          "model_module": "@jupyter-widgets/base",
          "model_name": "LayoutModel",
          "model_module_version": "1.2.0",
          "state": {
            "_model_module": "@jupyter-widgets/base",
            "_model_module_version": "1.2.0",
            "_model_name": "LayoutModel",
            "_view_count": null,
            "_view_module": "@jupyter-widgets/base",
            "_view_module_version": "1.2.0",
            "_view_name": "LayoutView",
            "align_content": null,
            "align_items": null,
            "align_self": null,
            "border": null,
            "bottom": null,
            "display": null,
            "flex": null,
            "flex_flow": null,
            "grid_area": null,
            "grid_auto_columns": null,
            "grid_auto_flow": null,
            "grid_auto_rows": null,
            "grid_column": null,
            "grid_gap": null,
            "grid_row": null,
            "grid_template_areas": null,
            "grid_template_columns": null,
            "grid_template_rows": null,
            "height": null,
            "justify_content": null,
            "justify_items": null,
            "left": null,
            "margin": null,
            "max_height": null,
            "max_width": null,
            "min_height": null,
            "min_width": null,
            "object_fit": null,
            "object_position": null,
            "order": null,
            "overflow": null,
            "overflow_x": null,
            "overflow_y": null,
            "padding": null,
            "right": null,
            "top": null,
            "visibility": null,
            "width": null
          }
        },
        "02188764d30f4366a2415ad94fced897": {
          "model_module": "@jupyter-widgets/controls",
          "model_name": "DescriptionStyleModel",
          "model_module_version": "1.5.0",
          "state": {
            "_model_module": "@jupyter-widgets/controls",
            "_model_module_version": "1.5.0",
            "_model_name": "DescriptionStyleModel",
            "_view_count": null,
            "_view_module": "@jupyter-widgets/base",
            "_view_module_version": "1.2.0",
            "_view_name": "StyleView",
            "description_width": ""
          }
        }
      }
    }
  },
  "nbformat": 4,
  "nbformat_minor": 0
}